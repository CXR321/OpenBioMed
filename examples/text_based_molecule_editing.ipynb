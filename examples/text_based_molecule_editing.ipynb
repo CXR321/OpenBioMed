{
 "cells": [
  {
   "cell_type": "code",
   "execution_count": null,
   "metadata": {},
   "outputs": [],
   "source": [
    "from open_biomed.core.pipeline import InferencePipeline\n",
    "from open_biomed.data import Molecule, Text\n",
    "\n",
    "cfg_path = \"./configs/text_based_molecule_editing/molt5.json\"\n",
    "pipeline = InferencePipeline(cfg_path)\n",
    "mol = [Molecule.from_smiles(\"CCCCC\")]\n",
    "text = [Text.from_str(\"wow\")]\n",
    "pipeline.run(mol, text)"
   ]
  }
 ],
 "metadata": {
  "language_info": {
   "name": "python"
  },
  "orig_nbformat": 4
 },
 "nbformat": 4,
 "nbformat_minor": 2
}
